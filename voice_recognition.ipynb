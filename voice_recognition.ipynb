{
 "cells": [
  {
   "metadata": {},
   "cell_type": "markdown",
   "source": "# Voice Recognition",
   "id": "56a705e9beb06c37"
  },
  {
   "metadata": {},
   "cell_type": "markdown",
   "source": [
    "## I. Preprocessing\n",
    "Transform audio files into spectrogram images"
   ],
   "id": "aab513e593bc57cf"
  },
  {
   "metadata": {},
   "cell_type": "markdown",
   "source": "Initialize dataset path (should be executed before each experiment)",
   "id": "9e86b17ba0932ad1"
  },
  {
   "cell_type": "code",
   "id": "initial_id",
   "metadata": {
    "collapsed": true
   },
   "source": [
    "from pathlib import Path\n",
    "\n",
    "from utils.audios import plot_spectrogram\n",
    "from utils.files import increment_path\n",
    "\n",
    "ROOT = Path(\"data\")\n",
    "DATASET_PATH = increment_path(ROOT / \"SpectrogramImages\")\n",
    "DATA_PATH = ROOT / \"audio\""
   ],
   "outputs": [],
   "execution_count": null
  },
  {
   "metadata": {},
   "cell_type": "markdown",
   "source": "Plot spectrogram images",
   "id": "b644df4c715bf81f"
  },
  {
   "metadata": {},
   "cell_type": "markdown",
   "source": [
    "Audio directory structure should be in the following format, and must be in `.wav` format:\n",
    "```\n",
    "data\n",
    "└── audio\n",
    "    ├── class1\n",
    "    │   ├── file1.wav\n",
    "    │   ├── file2.wav\n",
    "    │   └── ...\n",
    "    ├── class2\n",
    "    │   ├── file1.wav\n",
    "    │   ├── file2.wav\n",
    "    │   └── ...\n",
    "    └── ...\n",
    "```\n",
    "if you want to transform audio files to `.wav` format, use `transform_audio` function in `utils.audios`."
   ],
   "id": "2e3d6723af49894e"
  },
  {
   "metadata": {},
   "cell_type": "markdown",
   "source": "Transform audio files to spectrogram images",
   "id": "a0e576281c7d5dfe"
  },
  {
   "metadata": {},
   "cell_type": "code",
   "source": [
    "for directory in DATA_PATH.iterdir():\n",
    "    if not directory.is_dir():\n",
    "        continue\n",
    "    for file in directory.iterdir():\n",
    "        if not file.is_file():\n",
    "            continue\n",
    "        if not (DATASET_PATH / directory.name).exists():\n",
    "            (DATASET_PATH / directory.name).mkdir()\n",
    "        plot_spectrogram(file, str(DATASET_PATH / directory.name / f\"{file.stem}.png\"))"
   ],
   "id": "8fba3728e3049a4e",
   "outputs": [],
   "execution_count": null
  },
  {
   "metadata": {},
   "cell_type": "markdown",
   "source": [
    "## II. Experiment\n",
    "### Experiment 1 - LBP-Based Classification with Spectrogram Images"
   ],
   "id": "ad4866f63f512bf5"
  },
  {
   "metadata": {},
   "cell_type": "markdown",
   "source": "Load spectrogram images",
   "id": "df2fb45f05e746ca"
  },
  {
   "metadata": {},
   "cell_type": "code",
   "source": [
    "from datasets.lbp import LocalBinaryPatternsImageClassificationDataset\n",
    "\n",
    "DATASET_PATH = ROOT / \"SpectrogramImages\"\n",
    "dataset_spectrogram = LocalBinaryPatternsImageClassificationDataset()\n",
    "dataset_spectrogram.load_images(str(DATASET_PATH))\n",
    "print(dataset_spectrogram)\n",
    "dataset_spectrogram.overview()"
   ],
   "id": "4b15eafe7c8c1f10",
   "outputs": [],
   "execution_count": null
  },
  {
   "metadata": {},
   "cell_type": "markdown",
   "source": "Export dataset to CSV",
   "id": "a0c4060385f050cb"
  },
  {
   "metadata": {},
   "cell_type": "code",
   "source": "dataset_spectrogram.export_csv(ROOT / \"csv\", train_test_split=True, train_ratio=0.5)",
   "id": "bb43a94866559ffa",
   "outputs": [],
   "execution_count": null
  },
  {
   "metadata": {},
   "cell_type": "markdown",
   "source": "Save LBP images (for fun)",
   "id": "f776b233dd41f44f"
  },
  {
   "metadata": {},
   "cell_type": "code",
   "source": "dataset_spectrogram.save_lbp_images(ROOT / \"lbp\")",
   "id": "c8d91b8ecf75937c",
   "outputs": [],
   "execution_count": null
  },
  {
   "metadata": {},
   "cell_type": "markdown",
   "source": [
    "Load dataset from CSV\n",
    "* `LocalBinaryPatternsDataset` is a lightweight version of `LocalBinaryPatternsImageClassificationDataset` that loads data from CSV files."
   ],
   "id": "2f87efce2b478d0c"
  },
  {
   "metadata": {},
   "cell_type": "code",
   "source": [
    "from datasets.lbp import LocalBinaryPatternsDataset\n",
    "\n",
    "train_dataset, test_dataset = LocalBinaryPatternsDataset(), LocalBinaryPatternsDataset()\n",
    "train_dataset.load_csv(ROOT / \"csv\" / \"train.csv\")\n",
    "test_dataset.load_csv(ROOT / \"csv\" / \"test.csv\")\n",
    "print(train_dataset)\n",
    "print(test_dataset)"
   ],
   "id": "363852a8862e82f4",
   "outputs": [],
   "execution_count": null
  },
  {
   "metadata": {},
   "cell_type": "markdown",
   "source": "Train and test the classifier",
   "id": "5e5a382ad9e47a96"
  },
  {
   "metadata": {},
   "cell_type": "code",
   "source": [
    "from models.lbp import LocalBinaryPatternsClassifierBackend\n",
    "from sklearn.svm import SVC\n",
    "from sklearn.ensemble import RandomForestClassifier\n",
    "\n",
    "classifier = LocalBinaryPatternsClassifierBackend(\n",
    "    estimators={\n",
    "        \"SVM: Linear, C=1.0\":              SVC(kernel='linear', C=1.0, random_state=42, probability=True),\n",
    "        \"RandomForest: n_estimators=1000\": RandomForestClassifier(n_estimators=1000, random_state=42)\n",
    "    },\n",
    "    # scaler=StandardScaler()\n",
    ")\n",
    "\n",
    "classifier.train(train_dataset)\n",
    "classifier.test(test_dataset)"
   ],
   "id": "3929856aca4a0ee4",
   "outputs": [],
   "execution_count": null
  },
  {
   "metadata": {},
   "cell_type": "markdown",
   "source": "### Experiment 2 - LBP-Based Classification with Channel-Flattened Spectrogram Images",
   "id": "96f9db3db4a17cb6"
  },
  {
   "metadata": {},
   "cell_type": "markdown",
   "source": "Load spectrogram images in channel-flatten mode",
   "id": "68d7d184223941a5"
  },
  {
   "metadata": {},
   "cell_type": "code",
   "source": [
    "from datasets.lbp import LocalBinaryPatternsImageClassificationDataset\n",
    "\n",
    "DATASET_PATH = ROOT / \"SpectrogramImages\"\n",
    "dataset_spectrogram_cf = LocalBinaryPatternsImageClassificationDataset()\n",
    "dataset_spectrogram_cf.load_images(str(DATASET_PATH), channel_flatten=True)\n",
    "print(dataset_spectrogram_cf)\n",
    "dataset_spectrogram_cf.overview()"
   ],
   "id": "f8acd4ee88ecb89a",
   "outputs": [],
   "execution_count": null
  },
  {
   "metadata": {},
   "cell_type": "markdown",
   "source": "Export dataset to CSV",
   "id": "f3eefb6cfe58d3ab"
  },
  {
   "metadata": {},
   "cell_type": "code",
   "source": "dataset_spectrogram_cf.export_csv(ROOT / \"csv-channel-flatten\", train_test_split=True, train_ratio=0.5)",
   "id": "c388c391bc8d8a90",
   "outputs": [],
   "execution_count": null
  },
  {
   "metadata": {},
   "cell_type": "markdown",
   "source": "Load dataset from CSV",
   "id": "6fa14a397f41184"
  },
  {
   "metadata": {},
   "cell_type": "code",
   "source": [
    "from datasets.lbp import LocalBinaryPatternsDataset\n",
    "\n",
    "train_dataset, test_dataset = LocalBinaryPatternsDataset(), LocalBinaryPatternsDataset()\n",
    "train_dataset.load_csv(ROOT / \"csv-channel-flatten\" / \"train.csv\")\n",
    "test_dataset.load_csv(ROOT / \"csv-channel-flatten\" / \"test.csv\")\n",
    "print(train_dataset)\n",
    "print(test_dataset)"
   ],
   "id": "84c3a8f2c6070dfc",
   "outputs": [],
   "execution_count": null
  },
  {
   "metadata": {},
   "cell_type": "code",
   "source": [
    "from models.lbp import LocalBinaryPatternsClassifierBackend\n",
    "from sklearn.svm import SVC\n",
    "from sklearn.ensemble import RandomForestClassifier\n",
    "\n",
    "classifier = LocalBinaryPatternsClassifierBackend(\n",
    "    estimators={\n",
    "        \"SVM: Linear, C=1.0\":              SVC(kernel='linear', C=1.0, random_state=42, probability=True),\n",
    "        \"RandomForest: n_estimators=1000\": RandomForestClassifier(n_estimators=1000, random_state=42)\n",
    "    },\n",
    "    # scaler=StandardScaler()\n",
    ")\n",
    "\n",
    "classifier.train(train_dataset)\n",
    "classifier.test(test_dataset)"
   ],
   "id": "c78a7d116de98d87",
   "outputs": [],
   "execution_count": null
  },
  {
   "metadata": {},
   "cell_type": "markdown",
   "source": "### Experiment 3 - LBP-Based Classification with Augmented Spectrogram Images",
   "id": "e491b13243b9c906"
  },
  {
   "metadata": {},
   "cell_type": "markdown",
   "source": "Load spectrogram images to `BaseImageClassificationDataset`",
   "id": "8dc30d9ec07e660a"
  },
  {
   "metadata": {},
   "cell_type": "code",
   "source": [
    "from datasets.base import BaseImageClassificationDataset\n",
    "\n",
    "DATASET_PATH = ROOT / \"SpectrogramImages\"\n",
    "dataset_spectrogram = BaseImageClassificationDataset()\n",
    "dataset_spectrogram.load_images(str(DATASET_PATH))\n",
    "print(dataset_spectrogram)\n",
    "dataset_spectrogram.overview()"
   ],
   "id": "2143a8ab51d39ee6",
   "outputs": [],
   "execution_count": null
  },
  {
   "metadata": {},
   "cell_type": "markdown",
   "source": [
    "Load to `ImageAugmentationDataset`\n",
    "`ImageAugmentationDataset` is a subclass of `BaseImageClassificationDataset` that provides augmentation methods.\n",
    "For now supports `gaussian_noise` and `mix_patch`."
   ],
   "id": "cdc949c34fc1785a"
  },
  {
   "metadata": {},
   "cell_type": "code",
   "source": [
    "from datasets.augment import ImageAugmentationDataset\n",
    "\n",
    "aug_dataset = ImageAugmentationDataset()\n",
    "aug_dataset.from_base_dataset(dataset_spectrogram)\n",
    "print(aug_dataset)"
   ],
   "id": "8a7710b344a615f7",
   "outputs": [],
   "execution_count": null
  },
  {
   "metadata": {},
   "cell_type": "markdown",
   "source": "Apply augmentation",
   "id": "3cdea0fccacd0ddb"
  },
  {
   "metadata": {},
   "cell_type": "code",
   "source": "aug_dataset.apply_augmentation(aug_ratio=0.5, gaussian_noise=True, mix_patch=True)",
   "id": "1d9cee432310fa01",
   "outputs": [],
   "execution_count": null
  },
  {
   "metadata": {},
   "cell_type": "markdown",
   "source": "Overview augmented dataset",
   "id": "7fb4b2307b795d37"
  },
  {
   "metadata": {},
   "cell_type": "code",
   "source": [
    "print(aug_dataset)\n",
    "aug_dataset.overview()"
   ],
   "id": "4158c9dc50dd0e98",
   "outputs": [],
   "execution_count": null
  },
  {
   "metadata": {},
   "cell_type": "markdown",
   "source": "Save augmented images",
   "id": "9662bfadf0c44cd6"
  },
  {
   "metadata": {},
   "cell_type": "code",
   "source": "aug_dataset.save_images(ROOT / \"augmented\")",
   "id": "9641e647fb81e2f5",
   "outputs": [],
   "execution_count": null
  },
  {
   "metadata": {},
   "cell_type": "markdown",
   "source": "Load augmented dataset",
   "id": "59bf8bebc0faaa2"
  },
  {
   "metadata": {},
   "cell_type": "code",
   "source": [
    "%matplotlib inline\n",
    "from datasets.lbp import LocalBinaryPatternsImageClassificationDataset\n",
    "\n",
    "DATASET_PATH = ROOT / \"augmented\"\n",
    "dataset_spectrogram = LocalBinaryPatternsImageClassificationDataset()\n",
    "dataset_spectrogram.load_images(str(DATASET_PATH))\n",
    "print(dataset_spectrogram)\n",
    "dataset_spectrogram.overview()"
   ],
   "id": "f12f7a1f7ade506f",
   "outputs": [],
   "execution_count": null
  },
  {
   "metadata": {},
   "cell_type": "markdown",
   "source": "Export dataset to CSV",
   "id": "19d156cc839e0074"
  },
  {
   "metadata": {},
   "cell_type": "code",
   "source": "dataset_spectrogram.export_csv(ROOT / \"csv-augmented\", train_test_split=True, train_ratio=0.5)",
   "id": "6ae7e098a4ec0bdb",
   "outputs": [],
   "execution_count": null
  },
  {
   "metadata": {},
   "cell_type": "markdown",
   "source": "Load dataset from CSV",
   "id": "d328e32889a42cda"
  },
  {
   "metadata": {},
   "cell_type": "code",
   "source": [
    "from datasets.lbp import LocalBinaryPatternsDataset\n",
    "\n",
    "train_dataset, test_dataset = LocalBinaryPatternsDataset(), LocalBinaryPatternsDataset()\n",
    "train_dataset.load_csv(ROOT / \"csv-augmented\" / \"train.csv\")\n",
    "test_dataset.load_csv(ROOT / \"csv-augmented\" / \"test.csv\")\n",
    "print(train_dataset)\n",
    "print(test_dataset)"
   ],
   "id": "99cb2179777324a2",
   "outputs": [],
   "execution_count": null
  },
  {
   "metadata": {},
   "cell_type": "markdown",
   "source": "Train and test the classifier",
   "id": "f550e3ab3eba2639"
  },
  {
   "metadata": {},
   "cell_type": "code",
   "source": [
    "from models.lbp import LocalBinaryPatternsClassifierBackend\n",
    "from sklearn.svm import SVC\n",
    "from sklearn.ensemble import RandomForestClassifier\n",
    "\n",
    "classifier = LocalBinaryPatternsClassifierBackend(\n",
    "    estimators={\n",
    "        \"SVM: Linear, C=1.0\":              SVC(kernel='linear', C=1.0, random_state=42, probability=True),\n",
    "        \"RandomForest: n_estimators=1000\": RandomForestClassifier(n_estimators=1000, random_state=42)\n",
    "    },\n",
    "    # scaler=StandardScaler()\n",
    ")\n",
    "\n",
    "classifier.train(train_dataset)\n",
    "classifier.test(test_dataset)"
   ],
   "id": "81a02d06eb7aa410",
   "outputs": [],
   "execution_count": null
  },
  {
   "metadata": {},
   "cell_type": "markdown",
   "source": "### Experiment 4 - LBP-Based Classification with Augmented Spectrogram Images (with channel-flatten)",
   "id": "38f84c237b814a36"
  },
  {
   "metadata": {},
   "cell_type": "markdown",
   "source": "Load augmented dataset in channel-flatten mode",
   "id": "ef5761a954366049"
  },
  {
   "metadata": {},
   "cell_type": "code",
   "source": [
    "%matplotlib inline\n",
    "from datasets.lbp import LocalBinaryPatternsImageClassificationDataset\n",
    "\n",
    "DATASET_PATH = ROOT / \"augmented\"\n",
    "dataset_spectrogram = LocalBinaryPatternsImageClassificationDataset()\n",
    "dataset_spectrogram.load_images(str(DATASET_PATH), channel_flatten=True)\n",
    "print(dataset_spectrogram)\n",
    "dataset_spectrogram.overview()"
   ],
   "id": "e4567ce3ef3dfbdd",
   "outputs": [],
   "execution_count": null
  },
  {
   "metadata": {},
   "cell_type": "markdown",
   "source": "Export dataset to CSV",
   "id": "4eceaa12674f3e3"
  },
  {
   "metadata": {},
   "cell_type": "code",
   "source": "dataset_spectrogram.export_csv(ROOT / \"csv-augmented-channel-flatten\", train_test_split=True, train_ratio=0.5)",
   "id": "f0b9c5433b99ed8c",
   "outputs": [],
   "execution_count": null
  },
  {
   "metadata": {},
   "cell_type": "markdown",
   "source": "Load dataset from CSV",
   "id": "6f13594303e1b7ea"
  },
  {
   "metadata": {},
   "cell_type": "code",
   "source": [
    "from datasets.lbp import LocalBinaryPatternsDataset\n",
    "\n",
    "train_dataset, test_dataset = LocalBinaryPatternsDataset(), LocalBinaryPatternsDataset()\n",
    "train_dataset.load_csv(ROOT / \"csv-augmented-channel-flatten\" / \"train.csv\")\n",
    "test_dataset.load_csv(ROOT / \"csv-augmented-channel-flatten\" / \"test.csv\")\n",
    "print(train_dataset)\n",
    "print(test_dataset)"
   ],
   "id": "39c92d7afd472ab8",
   "outputs": [],
   "execution_count": null
  },
  {
   "metadata": {},
   "cell_type": "markdown",
   "source": "Train and test the classifier",
   "id": "2622ed8a04ea51c1"
  },
  {
   "metadata": {},
   "cell_type": "code",
   "source": [
    "from models.lbp import LocalBinaryPatternsClassifierBackend\n",
    "from sklearn.svm import SVC\n",
    "from sklearn.ensemble import RandomForestClassifier\n",
    "\n",
    "classifier = LocalBinaryPatternsClassifierBackend(\n",
    "    estimators={\n",
    "        \"SVM: Linear, C=1.0\":              SVC(kernel='linear', C=1.0, random_state=42, probability=True),\n",
    "        \"RandomForest: n_estimators=1000\": RandomForestClassifier(n_estimators=1000, random_state=42)\n",
    "    },\n",
    "    # scaler=StandardScaler()\n",
    ")\n",
    "\n",
    "classifier.train(train_dataset)\n",
    "classifier.test(test_dataset)"
   ],
   "id": "e7ede1c8bd80e05e",
   "outputs": [],
   "execution_count": null
  },
  {
   "metadata": {},
   "cell_type": "markdown",
   "source": "### Experiment 5 - CNN-Based Classification with Spectrogram Images (ResNet18)",
   "id": "1bc5f28f986f4da8"
  },
  {
   "metadata": {},
   "cell_type": "markdown",
   "source": "Load spectrogram images to `TorchImageClassificationDataset`",
   "id": "9afb76858951a44e"
  },
  {
   "metadata": {},
   "cell_type": "markdown",
   "source": "Implements `torch.utils.data.Dataset` and compatible with `DataLoader`. ",
   "id": "bace24f4a19cc000"
  },
  {
   "metadata": {},
   "cell_type": "code",
   "outputs": [],
   "execution_count": null,
   "source": [
    "from torchvision import transforms\n",
    "\n",
    "from datasets.torch import TorchImageClassificationDataset\n",
    "\n",
    "DATA_DIR = ROOT / \"data_split\"\n",
    "\n",
    "transform = transforms.Compose(\n",
    "    [\n",
    "        transforms.Resize((224, 224)),\n",
    "        transforms.ToTensor(),\n",
    "        transforms.Normalize([0.485, 0.456, 0.406], [0.229, 0.224, 0.225])\n",
    "    ]\n",
    ")\n",
    "train_dataset = TorchImageClassificationDataset(transform=transform)\n",
    "train_dataset.load_images(root=str(DATA_DIR / \"train\"))\n",
    "train_dataset.overview()\n",
    "\n",
    "val_dataset = TorchImageClassificationDataset(transform=transform)\n",
    "val_dataset.load_images(root=str(DATA_DIR / \"val\"))\n",
    "val_dataset.overview()\n",
    "\n",
    "test_dataset = TorchImageClassificationDataset(transform=transform)\n",
    "test_dataset.load_images(root=str(DATA_DIR / \"test\"))\n",
    "test_dataset.overview()"
   ],
   "id": "595701d8a5e8b7c6"
  },
  {
   "metadata": {},
   "cell_type": "code",
   "outputs": [],
   "execution_count": null,
   "source": [
    "print(train_dataset)\n",
    "print(val_dataset)\n",
    "print(test_dataset)"
   ],
   "id": "cbcd9194b27d75f9"
  },
  {
   "metadata": {},
   "cell_type": "markdown",
   "source": "Train",
   "id": "be682f2df47c48d1"
  },
  {
   "metadata": {},
   "cell_type": "code",
   "outputs": [],
   "execution_count": null,
   "source": [
    "from models.cnn import ConvolutionNeuralNetworkClassifierBackend\n",
    "\n",
    "classifier = ConvolutionNeuralNetworkClassifierBackend(\n",
    "    model_name=\"resnet18\",\n",
    "    decay=0.01,\n",
    "    epochs=10,\n",
    "    learning_rate=0.001,\n",
    ")\n",
    "\n",
    "classifier.train(train_dataset, val_dataset)"
   ],
   "id": "914c4bffb726f227"
  },
  {
   "metadata": {},
   "cell_type": "markdown",
   "source": "Test",
   "id": "95165a46b6f1b079"
  },
  {
   "metadata": {},
   "cell_type": "code",
   "outputs": [],
   "execution_count": null,
   "source": "classifier.test(test_dataset)",
   "id": "915a95baf70326df"
  },
  {
   "metadata": {},
   "cell_type": "markdown",
   "source": "### Experiment 6 - CNN-Based Classification with Spectrogram Images (VGG16)",
   "id": "d969f20582e499f7"
  },
  {
   "metadata": {},
   "cell_type": "markdown",
   "source": "Train",
   "id": "9faf640e8fcacb08"
  },
  {
   "metadata": {},
   "cell_type": "code",
   "outputs": [],
   "execution_count": null,
   "source": [
    "classifier = ConvolutionNeuralNetworkClassifierBackend(\n",
    "    model_name=\"vgg16\",\n",
    "    decay=0.01,\n",
    "    epochs=10,\n",
    "    learning_rate=0.001,\n",
    ")\n",
    "\n",
    "classifier.train(train_dataset, val_dataset)"
   ],
   "id": "91b10467d8bb9e41"
  },
  {
   "metadata": {},
   "cell_type": "markdown",
   "source": "Test",
   "id": "4c26e8a3cc8706ad"
  },
  {
   "metadata": {},
   "cell_type": "code",
   "outputs": [],
   "execution_count": null,
   "source": "classifier.test(test_dataset)",
   "id": "917ddf0d0f289dea"
  }
 ],
 "metadata": {
  "kernelspec": {
   "display_name": "Python 3",
   "language": "python",
   "name": "python3"
  },
  "language_info": {
   "codemirror_mode": {
    "name": "ipython",
    "version": 2
   },
   "file_extension": ".py",
   "mimetype": "text/x-python",
   "name": "python",
   "nbconvert_exporter": "python",
   "pygments_lexer": "ipython2",
   "version": "2.7.6"
  }
 },
 "nbformat": 4,
 "nbformat_minor": 5
}
